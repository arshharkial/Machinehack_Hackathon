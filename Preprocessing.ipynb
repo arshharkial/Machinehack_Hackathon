{
 "cells": [
  {
   "cell_type": "code",
   "execution_count": 1,
   "metadata": {},
   "outputs": [],
   "source": [
    "import numpy as np\n",
    "import pandas as pd"
   ]
  },
  {
   "cell_type": "code",
   "execution_count": 2,
   "metadata": {},
   "outputs": [
    {
     "data": {
      "text/html": [
       "<div>\n",
       "<style scoped>\n",
       "    .dataframe tbody tr th:only-of-type {\n",
       "        vertical-align: middle;\n",
       "    }\n",
       "\n",
       "    .dataframe tbody tr th {\n",
       "        vertical-align: top;\n",
       "    }\n",
       "\n",
       "    .dataframe thead th {\n",
       "        text-align: right;\n",
       "    }\n",
       "</style>\n",
       "<table border=\"1\" class=\"dataframe\">\n",
       "  <thead>\n",
       "    <tr style=\"text-align: right;\">\n",
       "      <th></th>\n",
       "      <th>InvoiceNo</th>\n",
       "      <th>StockCode</th>\n",
       "      <th>Description</th>\n",
       "      <th>Quantity</th>\n",
       "      <th>InvoiceDate</th>\n",
       "      <th>UnitPrice</th>\n",
       "      <th>CustomerID</th>\n",
       "      <th>Country</th>\n",
       "    </tr>\n",
       "  </thead>\n",
       "  <tbody>\n",
       "    <tr>\n",
       "      <th>0</th>\n",
       "      <td>6141</td>\n",
       "      <td>1583</td>\n",
       "      <td>144</td>\n",
       "      <td>3</td>\n",
       "      <td>2011-05-06 16:54:00</td>\n",
       "      <td>3.75</td>\n",
       "      <td>14056.0</td>\n",
       "      <td>35</td>\n",
       "    </tr>\n",
       "    <tr>\n",
       "      <th>1</th>\n",
       "      <td>6349</td>\n",
       "      <td>1300</td>\n",
       "      <td>3682</td>\n",
       "      <td>6</td>\n",
       "      <td>2011-05-11 07:35:00</td>\n",
       "      <td>1.95</td>\n",
       "      <td>13098.0</td>\n",
       "      <td>35</td>\n",
       "    </tr>\n",
       "    <tr>\n",
       "      <th>2</th>\n",
       "      <td>16783</td>\n",
       "      <td>2178</td>\n",
       "      <td>1939</td>\n",
       "      <td>4</td>\n",
       "      <td>2011-11-20 13:20:00</td>\n",
       "      <td>5.95</td>\n",
       "      <td>15044.0</td>\n",
       "      <td>35</td>\n",
       "    </tr>\n",
       "    <tr>\n",
       "      <th>3</th>\n",
       "      <td>16971</td>\n",
       "      <td>2115</td>\n",
       "      <td>2983</td>\n",
       "      <td>1</td>\n",
       "      <td>2011-11-22 12:07:00</td>\n",
       "      <td>0.83</td>\n",
       "      <td>15525.0</td>\n",
       "      <td>35</td>\n",
       "    </tr>\n",
       "    <tr>\n",
       "      <th>4</th>\n",
       "      <td>6080</td>\n",
       "      <td>1210</td>\n",
       "      <td>2886</td>\n",
       "      <td>12</td>\n",
       "      <td>2011-05-06 09:00:00</td>\n",
       "      <td>1.65</td>\n",
       "      <td>13952.0</td>\n",
       "      <td>35</td>\n",
       "    </tr>\n",
       "  </tbody>\n",
       "</table>\n",
       "</div>"
      ],
      "text/plain": [
       "   InvoiceNo  StockCode  Description  Quantity          InvoiceDate  \\\n",
       "0       6141       1583          144         3  2011-05-06 16:54:00   \n",
       "1       6349       1300         3682         6  2011-05-11 07:35:00   \n",
       "2      16783       2178         1939         4  2011-11-20 13:20:00   \n",
       "3      16971       2115         2983         1  2011-11-22 12:07:00   \n",
       "4       6080       1210         2886        12  2011-05-06 09:00:00   \n",
       "\n",
       "   UnitPrice  CustomerID  Country  \n",
       "0       3.75     14056.0       35  \n",
       "1       1.95     13098.0       35  \n",
       "2       5.95     15044.0       35  \n",
       "3       0.83     15525.0       35  \n",
       "4       1.65     13952.0       35  "
      ]
     },
     "execution_count": 2,
     "metadata": {},
     "output_type": "execute_result"
    }
   ],
   "source": [
    "dataset = pd.read_csv(\"Train.csv\")\n",
    "dataset.head()"
   ]
  },
  {
   "cell_type": "code",
   "execution_count": 5,
   "metadata": {},
   "outputs": [],
   "source": [
    "dataset['InvoiceDate'] = pd.to_datetime(dataset['InvoiceDate'])\n",
    "dataset['Year'] = dataset['InvoiceDate'].dt.year\n",
    "dataset['Month'] = dataset['InvoiceDate'].dt.month"
   ]
  },
  {
   "cell_type": "code",
   "execution_count": 6,
   "metadata": {},
   "outputs": [
    {
     "data": {
      "text/html": [
       "<div>\n",
       "<style scoped>\n",
       "    .dataframe tbody tr th:only-of-type {\n",
       "        vertical-align: middle;\n",
       "    }\n",
       "\n",
       "    .dataframe tbody tr th {\n",
       "        vertical-align: top;\n",
       "    }\n",
       "\n",
       "    .dataframe thead th {\n",
       "        text-align: right;\n",
       "    }\n",
       "</style>\n",
       "<table border=\"1\" class=\"dataframe\">\n",
       "  <thead>\n",
       "    <tr style=\"text-align: right;\">\n",
       "      <th></th>\n",
       "      <th>InvoiceNo</th>\n",
       "      <th>StockCode</th>\n",
       "      <th>Description</th>\n",
       "      <th>Quantity</th>\n",
       "      <th>InvoiceDate</th>\n",
       "      <th>UnitPrice</th>\n",
       "      <th>CustomerID</th>\n",
       "      <th>Country</th>\n",
       "      <th>Year</th>\n",
       "      <th>Month</th>\n",
       "    </tr>\n",
       "  </thead>\n",
       "  <tbody>\n",
       "    <tr>\n",
       "      <th>0</th>\n",
       "      <td>6141</td>\n",
       "      <td>1583</td>\n",
       "      <td>144</td>\n",
       "      <td>3</td>\n",
       "      <td>2011-05-06 16:54:00</td>\n",
       "      <td>3.75</td>\n",
       "      <td>14056.0</td>\n",
       "      <td>35</td>\n",
       "      <td>2011</td>\n",
       "      <td>5</td>\n",
       "    </tr>\n",
       "    <tr>\n",
       "      <th>1</th>\n",
       "      <td>6349</td>\n",
       "      <td>1300</td>\n",
       "      <td>3682</td>\n",
       "      <td>6</td>\n",
       "      <td>2011-05-11 07:35:00</td>\n",
       "      <td>1.95</td>\n",
       "      <td>13098.0</td>\n",
       "      <td>35</td>\n",
       "      <td>2011</td>\n",
       "      <td>5</td>\n",
       "    </tr>\n",
       "    <tr>\n",
       "      <th>2</th>\n",
       "      <td>16783</td>\n",
       "      <td>2178</td>\n",
       "      <td>1939</td>\n",
       "      <td>4</td>\n",
       "      <td>2011-11-20 13:20:00</td>\n",
       "      <td>5.95</td>\n",
       "      <td>15044.0</td>\n",
       "      <td>35</td>\n",
       "      <td>2011</td>\n",
       "      <td>11</td>\n",
       "    </tr>\n",
       "    <tr>\n",
       "      <th>3</th>\n",
       "      <td>16971</td>\n",
       "      <td>2115</td>\n",
       "      <td>2983</td>\n",
       "      <td>1</td>\n",
       "      <td>2011-11-22 12:07:00</td>\n",
       "      <td>0.83</td>\n",
       "      <td>15525.0</td>\n",
       "      <td>35</td>\n",
       "      <td>2011</td>\n",
       "      <td>11</td>\n",
       "    </tr>\n",
       "    <tr>\n",
       "      <th>4</th>\n",
       "      <td>6080</td>\n",
       "      <td>1210</td>\n",
       "      <td>2886</td>\n",
       "      <td>12</td>\n",
       "      <td>2011-05-06 09:00:00</td>\n",
       "      <td>1.65</td>\n",
       "      <td>13952.0</td>\n",
       "      <td>35</td>\n",
       "      <td>2011</td>\n",
       "      <td>5</td>\n",
       "    </tr>\n",
       "  </tbody>\n",
       "</table>\n",
       "</div>"
      ],
      "text/plain": [
       "   InvoiceNo  StockCode  Description  Quantity         InvoiceDate  UnitPrice  \\\n",
       "0       6141       1583          144         3 2011-05-06 16:54:00       3.75   \n",
       "1       6349       1300         3682         6 2011-05-11 07:35:00       1.95   \n",
       "2      16783       2178         1939         4 2011-11-20 13:20:00       5.95   \n",
       "3      16971       2115         2983         1 2011-11-22 12:07:00       0.83   \n",
       "4       6080       1210         2886        12 2011-05-06 09:00:00       1.65   \n",
       "\n",
       "   CustomerID  Country  Year  Month  \n",
       "0     14056.0       35  2011      5  \n",
       "1     13098.0       35  2011      5  \n",
       "2     15044.0       35  2011     11  \n",
       "3     15525.0       35  2011     11  \n",
       "4     13952.0       35  2011      5  "
      ]
     },
     "execution_count": 6,
     "metadata": {},
     "output_type": "execute_result"
    }
   ],
   "source": [
    "dataset.head()"
   ]
  },
  {
   "cell_type": "code",
   "execution_count": 7,
   "metadata": {},
   "outputs": [],
   "source": [
    "hour = dataset['InvoiceDate'].dt.hour"
   ]
  },
  {
   "cell_type": "code",
   "execution_count": 8,
   "metadata": {},
   "outputs": [
    {
     "data": {
      "text/plain": [
       "<AxesSubplot:>"
      ]
     },
     "execution_count": 8,
     "metadata": {},
     "output_type": "execute_result"
    },
    {
     "data": {
      "image/png": "[encoded data removed]",
      "text/plain": [
       "<Figure size 432x288 with 1 Axes>"
      ]
     },
     "metadata": {
      "needs_background": "light"
     },
     "output_type": "display_data"
    }
   ],
   "source": [
    "hour.value_counts().sort_index().plot()"
   ]
  },
  {
   "cell_type": "code",
   "execution_count": 9,
   "metadata": {},
   "outputs": [
    {
     "data": {
      "text/plain": [
       "6        30\n",
       "7       266\n",
       "8      6199\n",
       "9     15756\n",
       "10    27262\n",
       "11    35176\n",
       "12    51259\n",
       "13    45633\n",
       "14    38422\n",
       "15    32217\n",
       "16    17601\n",
       "17     9603\n",
       "18     2211\n",
       "19     2513\n",
       "20      632\n",
       "Name: InvoiceDate, dtype: int64"
      ]
     },
     "execution_count": 9,
     "metadata": {},
     "output_type": "execute_result"
    }
   ],
   "source": [
    "hour.value_counts().sort_index()"
   ]
  },
  {
   "cell_type": "code",
   "execution_count": 10,
   "metadata": {},
   "outputs": [],
   "source": [
    "minutes = dataset['InvoiceDate'].dt.minute"
   ]
  },
  {
   "cell_type": "code",
   "execution_count": 11,
   "metadata": {},
   "outputs": [
    {
     "data": {
      "text/plain": [
       "<AxesSubplot:>"
      ]
     },
     "execution_count": 11,
     "metadata": {},
     "output_type": "execute_result"
    },
    {
     "data": {
      "image/png": "[encoded data removed]",
      "text/plain": [
       "<Figure size 432x288 with 1 Axes>"
      ]
     },
     "metadata": {
      "needs_background": "light"
     },
     "output_type": "display_data"
    }
   ],
   "source": [
    "minutes.value_counts().sort_index().plot()"
   ]
  },
  {
   "cell_type": "code",
   "execution_count": 12,
   "metadata": {},
   "outputs": [
    {
     "data": {
      "text/plain": [
       "0     4469\n",
       "1     4460\n",
       "2     3838\n",
       "3     3685\n",
       "4     4317\n",
       "5     4703\n",
       "6     4463\n",
       "7     4740\n",
       "8     4600\n",
       "9     4247\n",
       "10    4130\n",
       "11    3798\n",
       "12    4547\n",
       "13    4471\n",
       "14    4189\n",
       "15    4133\n",
       "16    4440\n",
       "17    5117\n",
       "18    4573\n",
       "19    5022\n",
       "20    4740\n",
       "21    4669\n",
       "22    4221\n",
       "23    4700\n",
       "24    4205\n",
       "25    4442\n",
       "26    5398\n",
       "27    5088\n",
       "28    4525\n",
       "29    5158\n",
       "30    4507\n",
       "31    4927\n",
       "32    4812\n",
       "33    4950\n",
       "34    4816\n",
       "35    5520\n",
       "36    4665\n",
       "37    5388\n",
       "38    5260\n",
       "39    4902\n",
       "40    4868\n",
       "41    5727\n",
       "42    5096\n",
       "43    4897\n",
       "44    5248\n",
       "45    5670\n",
       "46    4608\n",
       "47    5441\n",
       "48    4779\n",
       "49    4897\n",
       "50    5026\n",
       "51    4888\n",
       "52    4976\n",
       "53    5469\n",
       "54    4884\n",
       "55    4248\n",
       "56    4995\n",
       "57    4776\n",
       "58    5296\n",
       "59    4156\n",
       "Name: InvoiceDate, dtype: int64"
      ]
     },
     "execution_count": 12,
     "metadata": {},
     "output_type": "execute_result"
    }
   ],
   "source": [
    "minutes.value_counts().sort_index()"
   ]
  },
  {
   "cell_type": "code",
   "execution_count": null,
   "metadata": {},
   "outputs": [],
   "source": []
  }
 ],
 "metadata": {
  "kernelspec": {
   "display_name": "Python 3",
   "language": "python",
   "name": "python3"
  },
  "language_info": {
   "codemirror_mode": {
    "name": "ipython",
    "version": 3
   },
   "file_extension": ".py",
   "mimetype": "text/x-python",
   "name": "python",
   "nbconvert_exporter": "python",
   "pygments_lexer": "ipython3",
   "version": "3.8.2"
  }
 },
 "nbformat": 4,
 "nbformat_minor": 4
}
